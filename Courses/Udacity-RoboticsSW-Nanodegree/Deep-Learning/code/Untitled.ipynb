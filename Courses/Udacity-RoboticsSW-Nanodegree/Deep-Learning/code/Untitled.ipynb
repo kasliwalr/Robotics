{
 "cells": [
  {
   "cell_type": "markdown",
   "metadata": {},
   "source": [
    "## Follow Me"
   ]
  },
  {
   "cell_type": "markdown",
   "metadata": {},
   "source": [
    "### Rubric Items"
   ]
  },
  {
   "cell_type": "markdown",
   "metadata": {},
   "source": [
    "#### Network Architecture\n",
    "The basic network architecture consists of \n",
    "\n",
    "\n",
    "\n",
    "1. Convolutional-Pooling-Relu layers\n",
    "2. 1x1 convolutional layer: where, when and how it is used\n",
    "3. Bilinear upsampling layers\n",
    "4. Transposed convolutional layer\n",
    "5. Skip connections\n",
    "Clear understanding of fully connected layer\n",
    "\n",
    "Network diagram\n",
    "\n",
    "Note: Focus on layer size, number of layers, choice of skip connections\n",
    "\n",
    "#### Learning Parameters\n",
    "1. Parameters should be explicitly stated with justifications\n",
    "    1. Learning Rate\n",
    "    2. Num. of Epochs\n",
    "    3. Steps Per Epoch\n",
    "    4. Batch Size\n",
    "    \n",
    "#### Preparing Data for Semantic Segmentation\n",
    "\n",
    "\n",
    "#### Future Enhancements\n",
    "1. Future Enhancements\n"
   ]
  },
  {
   "cell_type": "code",
   "execution_count": null,
   "metadata": {},
   "outputs": [],
   "source": []
  }
 ],
 "metadata": {
  "kernelspec": {
   "display_name": "Python 2",
   "language": "python",
   "name": "python2"
  },
  "language_info": {
   "codemirror_mode": {
    "name": "ipython",
    "version": 3
   },
   "file_extension": ".py",
   "mimetype": "text/x-python",
   "name": "python",
   "nbconvert_exporter": "python",
   "pygments_lexer": "ipython3",
   "version": "3.5.2"
  },
  "widgets": {
   "state": {},
   "version": "1.1.2"
  }
 },
 "nbformat": 4,
 "nbformat_minor": 2
}
